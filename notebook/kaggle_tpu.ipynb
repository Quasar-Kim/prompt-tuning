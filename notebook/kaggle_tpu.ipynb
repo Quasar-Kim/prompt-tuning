{
 "cells": [
  {
   "attachments": {},
   "cell_type": "markdown",
   "metadata": {},
   "source": [
    "# Setup\n",
    "0. Prerequisite\n",
    "- TPU 할당받기\n",
    "- `kcmoe-pretrain-finetune-dataset`, `nsmc-parquet` 연결하기\n",
    "- wandb 토큰 설정하기\n",
    "\n",
    "1. clone repository"
   ]
  },
  {
   "cell_type": "code",
   "execution_count": null,
   "metadata": {},
   "outputs": [],
   "source": [
    "%%bash\n",
    "cd /kaggle/working\n",
    "rm -rf prompt-tuning\n",
    "# GIT LFS 무시\n",
    "# branch 바꿔야 한다면 여기서 바꾸기\n",
    "GIT_LFS_SKIP_SMUDGE=1 git clone --quiet https://github.com/quasar-kim/prompt-tuning.git\n",
    "cd /kaggle/working/prompt-tuning\n",
    "git log -1"
   ]
  },
  {
   "attachments": {},
   "cell_type": "markdown",
   "metadata": {},
   "source": [
    "2. setup 스크립트 실행"
   ]
  },
  {
   "cell_type": "code",
   "execution_count": null,
   "metadata": {},
   "outputs": [],
   "source": [
    "%cd /kaggle/working/prompt-tuning\n",
    "!bash setup_kaggle_tpu.sh"
   ]
  },
  {
   "attachments": {},
   "cell_type": "markdown",
   "metadata": {},
   "source": [
    "3. 환경 변수 설정"
   ]
  },
  {
   "cell_type": "code",
   "execution_count": null,
   "metadata": {},
   "outputs": [],
   "source": [
    "import os\n",
    "os.environ.pop('PJRT_DEVICE', None)\n",
    "os.environ['XRT_TPU_CONFIG'] = 'localservice;0;localhost:51011'\n",
    "os.environ['WANDB_API_KEY'] = '<YOUR_WANDB_API_KEY>'\n",
    "os.environ['WANDB_PROJECT'] = '<WANDB_PROJECT_NAME>'"
   ]
  },
  {
   "attachments": {},
   "cell_type": "markdown",
   "metadata": {},
   "source": [
    "# Run"
   ]
  },
  {
   "cell_type": "code",
   "execution_count": null,
   "metadata": {},
   "outputs": [],
   "source": [
    "%cd /kaggle/working/prompt-tuning\n",
    "!~/.local/bin/poetry run python cli.py fit --config config.env.xla_fsdp --config config.ket5_small_khs"
   ]
  }
 ],
 "metadata": {
  "language_info": {
   "name": "python"
  },
  "orig_nbformat": 4
 },
 "nbformat": 4,
 "nbformat_minor": 2
}
