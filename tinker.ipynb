{
 "cells": [
  {
   "cell_type": "code",
   "execution_count": 1,
   "metadata": {},
   "outputs": [],
   "source": [
    "from data.datamodule import KHSDataModule\n",
    "from data.feature_converter import EncDecFeatureConverter\n",
    "from tokenizer import KeT5Tokenizer\n",
    "\n",
    "dm = KHSDataModule(\n",
    "    batch_size=1,\n",
    "    Tokenizer_cls=KeT5Tokenizer,\n",
    "    Feature_converter_cls=EncDecFeatureConverter,\n",
    "    pad_to=None\n",
    ")\n",
    "dm.setup(stage='validate')\n",
    "loader = dm.val_dataloader()"
   ]
  },
  {
   "cell_type": "code",
   "execution_count": 2,
   "metadata": {},
   "outputs": [],
   "source": [
    "max_len = 0\n",
    "for batch in loader:\n",
    "    enc_x_len = batch['enc_x'].shape[-1]\n",
    "    if enc_x_len > max_len:\n",
    "        max_len = enc_x_len"
   ]
  },
  {
   "cell_type": "code",
   "execution_count": 3,
   "metadata": {},
   "outputs": [
    {
     "data": {
      "text/plain": [
       "72"
      ]
     },
     "execution_count": 3,
     "metadata": {},
     "output_type": "execute_result"
    }
   ],
   "source": [
    "max_len"
   ]
  }
 ],
 "metadata": {
  "kernelspec": {
   "display_name": "prompt-tuning-VXbnCFQN-py3.10",
   "language": "python",
   "name": "python3"
  },
  "language_info": {
   "codemirror_mode": {
    "name": "ipython",
    "version": 3
   },
   "file_extension": ".py",
   "mimetype": "text/x-python",
   "name": "python",
   "nbconvert_exporter": "python",
   "pygments_lexer": "ipython3",
   "version": "3.10.10"
  },
  "orig_nbformat": 4
 },
 "nbformat": 4,
 "nbformat_minor": 2
}
